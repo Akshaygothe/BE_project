{
 "cells": [
  {
   "cell_type": "code",
   "execution_count": 1,
   "metadata": {},
   "outputs": [],
   "source": [
    "import cv2\n",
    "import sys,os,time\n",
    "import numpy as np"
   ]
  },
  {
   "cell_type": "code",
   "execution_count": 2,
   "metadata": {},
   "outputs": [
    {
     "name": "stdout",
     "output_type": "stream",
     "text": [
      "Enter Name Of The Person : Sam\n",
      "-----------------------Taking pictures----------------------\n",
      "--------------------Give some expressions---------------------\n",
      "64 images taken and saved to Sam folder in database \n"
     ]
    }
   ],
   "source": [
    "count = 0\n",
    "size = 4\n",
    "fn_haar = 'haarcascade_frontalface_default.xml'\n",
    "fn_dir = 'database'\n",
    "fn_name = input('Enter Name Of The Person : ')   #name of the person\n",
    "path = os.path.join(fn_dir, fn_name)\n",
    "if not os.path.isdir(path):\n",
    "    os.mkdir(path)\n",
    "(im_width, im_height) = (68, 68)\n",
    "haar_cascade = cv2.CascadeClassifier(fn_haar)\n",
    "webcam = cv2.VideoCapture(0)\n",
    "\n",
    "\n",
    "print(\"-----------------------Taking pictures----------------------\")\n",
    "print(\"--------------------Give some expressions---------------------\")\n",
    "# The program loops until it has 20 images of the face.\n",
    "\n",
    "while count < 64:\n",
    "    (rval, im) = webcam.read()\n",
    "    im = cv2.flip(im, 1, 0)\n",
    "    gray = cv2.cvtColor(im, cv2.COLOR_BGR2GRAY)\n",
    "    mini = cv2.resize(gray, ((int)(gray.shape[1] / size), (int)(gray.shape[0] / size)))\n",
    "    faces = haar_cascade.detectMultiScale(mini)\n",
    "    faces = sorted(faces, key=lambda x: x[3])\n",
    "    if faces:\n",
    "        face_i = faces[0]\n",
    "        (x, y, w, h) = [v * size for v in face_i]\n",
    "        face = gray[y:y + h, x:x + w]\n",
    "        face_resize = cv2.resize(face, (im_width, im_height))\n",
    "        pin=sorted([int(n[:n.find('.')]) for n in os.listdir(path)\n",
    "            if n[0]!='.' ]+[0])[-1] + 1\n",
    "        cv2.imwrite('%s/%s.png' % (path, pin), face_resize)\n",
    "        cv2.rectangle(im, (x, y), (x + w, y + h), (0, 255, 0), 3)\n",
    "        cv2.putText(im, fn_name, (x - 10, y - 10), cv2.FONT_HERSHEY_PLAIN,1,(0, 255, 0))\n",
    "        time.sleep(0.38)        \n",
    "        count += 1\n",
    "                           \n",
    "                                \n",
    "    cv2.imshow('OpenCV', im)\n",
    "    key = cv2.waitKey(10)\n",
    "    if key == 27:\n",
    "        break\n",
    "print(str(count) + \" images taken and saved to \" + fn_name +\" folder in database \")\n",
    "cv2.destroyAllWindows()\n",
    "webcam.release()"
   ]
  },
  {
   "cell_type": "code",
   "execution_count": 3,
   "metadata": {},
   "outputs": [],
   "source": [
    "face_recognizer = cv2.face.LBPHFaceRecognizer_create()"
   ]
  },
  {
   "cell_type": "code",
   "execution_count": 6,
   "metadata": {},
   "outputs": [
    {
     "name": "stdout",
     "output_type": "stream",
     "text": [
      "Training...\n"
     ]
    },
    {
     "ename": "error",
     "evalue": "OpenCV(4.1.2) C:\\projects\\opencv-python\\opencv\\modules\\core\\src\\matrix.cpp:235: error: (-215:Assertion failed) s >= 0 in function 'cv::setSize'\n",
     "output_type": "error",
     "traceback": [
      "\u001b[1;31m---------------------------------------------------------------------------\u001b[0m",
      "\u001b[1;31merror\u001b[0m                                     Traceback (most recent call last)",
      "\u001b[1;32m<ipython-input-6-0ec4d3faa954>\u001b[0m in \u001b[0;36m<module>\u001b[1;34m\u001b[0m\n\u001b[0;32m     21\u001b[0m     \u001b[1;31m# Create a Numpy array from the two lists above\u001b[0m\u001b[1;33m\u001b[0m\u001b[1;33m\u001b[0m\u001b[1;33m\u001b[0m\u001b[0m\n\u001b[0;32m     22\u001b[0m     \u001b[1;33m(\u001b[0m\u001b[0mimages\u001b[0m\u001b[1;33m,\u001b[0m \u001b[0mlables\u001b[0m\u001b[1;33m)\u001b[0m \u001b[1;33m=\u001b[0m \u001b[1;33m[\u001b[0m\u001b[0mnp\u001b[0m\u001b[1;33m.\u001b[0m\u001b[0marray\u001b[0m\u001b[1;33m(\u001b[0m\u001b[0mlis\u001b[0m\u001b[1;33m)\u001b[0m \u001b[1;32mfor\u001b[0m \u001b[0mlis\u001b[0m \u001b[1;32min\u001b[0m \u001b[1;33m[\u001b[0m\u001b[0mimages\u001b[0m\u001b[1;33m,\u001b[0m \u001b[0mlables\u001b[0m\u001b[1;33m]\u001b[0m\u001b[1;33m]\u001b[0m\u001b[1;33m\u001b[0m\u001b[1;33m\u001b[0m\u001b[0m\n\u001b[1;32m---> 23\u001b[1;33m     \u001b[0mface_recognizer\u001b[0m\u001b[1;33m.\u001b[0m\u001b[0mtrain\u001b[0m\u001b[1;33m(\u001b[0m\u001b[0mimages\u001b[0m\u001b[1;33m,\u001b[0m \u001b[0mlables\u001b[0m\u001b[1;33m)\u001b[0m\u001b[1;33m\u001b[0m\u001b[1;33m\u001b[0m\u001b[0m\n\u001b[0m\u001b[0;32m     24\u001b[0m     \u001b[0mface_recognizer\u001b[0m\u001b[1;33m.\u001b[0m\u001b[0msave\u001b[0m\u001b[1;33m(\u001b[0m\u001b[1;34m\"traineer4.yml\"\u001b[0m\u001b[1;33m)\u001b[0m\u001b[1;33m\u001b[0m\u001b[1;33m\u001b[0m\u001b[0m\n\u001b[0;32m     25\u001b[0m     \u001b[1;31m#trained_face_recognizer=lr.train_lbph(images)\u001b[0m\u001b[1;33m\u001b[0m\u001b[1;33m\u001b[0m\u001b[1;33m\u001b[0m\u001b[0m\n",
      "\u001b[1;31merror\u001b[0m: OpenCV(4.1.2) C:\\projects\\opencv-python\\opencv\\modules\\core\\src\\matrix.cpp:235: error: (-215:Assertion failed) s >= 0 in function 'cv::setSize'\n"
     ]
    }
   ],
   "source": [
    "import sys, os,time\n",
    "size = 4\n",
    "fn_haar = 'haarcascade_frontalface_default.xml'\n",
    "fn_dir = 'database'\n",
    "\n",
    "print('Training...')\n",
    "# Create a list of images and a list of corresponding names\n",
    "(images, lables, names, id) = ([], [], {}, 0)\n",
    "for (subdirs, dirs, files) in os.walk(fn_dir):\n",
    "    for subdir in dirs:\n",
    "        names[id] = subdir\n",
    "        subjectpath = os.path.join(fn_dir, subdir)\n",
    "        for filename in os.listdir(subjectpath):\n",
    "            path = subjectpath + '/' + filename\n",
    "            lable = id\n",
    "            images.append(cv2.imread(path, 0))\n",
    "            lables.append(int(lable))\n",
    "        id += 1\n",
    "    (im_width, im_height) = (68, 68)\n",
    "\n",
    "    # Create a Numpy array from the two lists above\n",
    "    (images, lables) = [np.array(lis) for lis in [images, lables]]\n",
    "    face_recognizer.train(images, lables)\n",
    "    face_recognizer.save(\"traineer4.yml\")\n",
    "    #trained_face_recognizer=lr.train_lbph(images)\n",
    "    print('done')\n",
    "    #numpy.save('trainedRec.npy',trained_face_recognizer)"
   ]
  },
  {
   "cell_type": "code",
   "execution_count": null,
   "metadata": {},
   "outputs": [],
   "source": []
  }
 ],
 "metadata": {
  "kernelspec": {
   "display_name": "Python 3",
   "language": "python",
   "name": "python3"
  },
  "language_info": {
   "codemirror_mode": {
    "name": "ipython",
    "version": 3
   },
   "file_extension": ".py",
   "mimetype": "text/x-python",
   "name": "python",
   "nbconvert_exporter": "python",
   "pygments_lexer": "ipython3",
   "version": "3.7.3"
  }
 },
 "nbformat": 4,
 "nbformat_minor": 2
}
