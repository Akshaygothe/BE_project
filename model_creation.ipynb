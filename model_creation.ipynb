{
 "cells": [
  {
   "cell_type": "code",
   "execution_count": 15,
   "metadata": {},
   "outputs": [],
   "source": [
    "import pandas as pd\n",
    "import numpy as np\n",
    "import matplotlib.pyplot as plt\n",
    "%matplotlib inline\n",
    "import seaborn as sns"
   ]
  },
  {
   "cell_type": "code",
   "execution_count": 16,
   "metadata": {},
   "outputs": [],
   "source": [
    "df = pd.read_csv(r'D:\\data\\face_datafev2013.csv')"
   ]
  },
  {
   "cell_type": "code",
   "execution_count": 17,
   "metadata": {},
   "outputs": [
    {
     "data": {
      "text/plain": [
       "(28709, 2305)"
      ]
     },
     "execution_count": 17,
     "metadata": {},
     "output_type": "execute_result"
    }
   ],
   "source": [
    "df.shape"
   ]
  },
  {
   "cell_type": "code",
   "execution_count": 18,
   "metadata": {},
   "outputs": [
    {
     "name": "stdout",
     "output_type": "stream",
     "text": [
      "<class 'pandas.core.frame.DataFrame'>\n",
      "RangeIndex: 28709 entries, 0 to 28708\n",
      "Columns: 2305 entries, emotion to 2303\n",
      "dtypes: int64(2305)\n",
      "memory usage: 504.9 MB\n"
     ]
    }
   ],
   "source": [
    "df.info()"
   ]
  },
  {
   "cell_type": "code",
   "execution_count": 19,
   "metadata": {},
   "outputs": [
    {
     "data": {
      "text/html": [
       "<div>\n",
       "<style scoped>\n",
       "    .dataframe tbody tr th:only-of-type {\n",
       "        vertical-align: middle;\n",
       "    }\n",
       "\n",
       "    .dataframe tbody tr th {\n",
       "        vertical-align: top;\n",
       "    }\n",
       "\n",
       "    .dataframe thead th {\n",
       "        text-align: right;\n",
       "    }\n",
       "</style>\n",
       "<table border=\"1\" class=\"dataframe\">\n",
       "  <thead>\n",
       "    <tr style=\"text-align: right;\">\n",
       "      <th></th>\n",
       "      <th>emotion</th>\n",
       "      <th>0</th>\n",
       "      <th>1</th>\n",
       "      <th>2</th>\n",
       "      <th>3</th>\n",
       "      <th>4</th>\n",
       "      <th>5</th>\n",
       "      <th>6</th>\n",
       "      <th>7</th>\n",
       "      <th>8</th>\n",
       "      <th>...</th>\n",
       "      <th>2294</th>\n",
       "      <th>2295</th>\n",
       "      <th>2296</th>\n",
       "      <th>2297</th>\n",
       "      <th>2298</th>\n",
       "      <th>2299</th>\n",
       "      <th>2300</th>\n",
       "      <th>2301</th>\n",
       "      <th>2302</th>\n",
       "      <th>2303</th>\n",
       "    </tr>\n",
       "  </thead>\n",
       "  <tbody>\n",
       "    <tr>\n",
       "      <th>0</th>\n",
       "      <td>0</td>\n",
       "      <td>70</td>\n",
       "      <td>80</td>\n",
       "      <td>82</td>\n",
       "      <td>72</td>\n",
       "      <td>58</td>\n",
       "      <td>58</td>\n",
       "      <td>60</td>\n",
       "      <td>63</td>\n",
       "      <td>54</td>\n",
       "      <td>...</td>\n",
       "      <td>159</td>\n",
       "      <td>182</td>\n",
       "      <td>183</td>\n",
       "      <td>136</td>\n",
       "      <td>106</td>\n",
       "      <td>116</td>\n",
       "      <td>95</td>\n",
       "      <td>106</td>\n",
       "      <td>109</td>\n",
       "      <td>82</td>\n",
       "    </tr>\n",
       "    <tr>\n",
       "      <th>1</th>\n",
       "      <td>0</td>\n",
       "      <td>151</td>\n",
       "      <td>150</td>\n",
       "      <td>147</td>\n",
       "      <td>155</td>\n",
       "      <td>148</td>\n",
       "      <td>133</td>\n",
       "      <td>111</td>\n",
       "      <td>140</td>\n",
       "      <td>170</td>\n",
       "      <td>...</td>\n",
       "      <td>105</td>\n",
       "      <td>108</td>\n",
       "      <td>95</td>\n",
       "      <td>108</td>\n",
       "      <td>102</td>\n",
       "      <td>67</td>\n",
       "      <td>171</td>\n",
       "      <td>193</td>\n",
       "      <td>183</td>\n",
       "      <td>184</td>\n",
       "    </tr>\n",
       "    <tr>\n",
       "      <th>2</th>\n",
       "      <td>2</td>\n",
       "      <td>231</td>\n",
       "      <td>212</td>\n",
       "      <td>156</td>\n",
       "      <td>164</td>\n",
       "      <td>174</td>\n",
       "      <td>138</td>\n",
       "      <td>161</td>\n",
       "      <td>173</td>\n",
       "      <td>182</td>\n",
       "      <td>...</td>\n",
       "      <td>104</td>\n",
       "      <td>138</td>\n",
       "      <td>152</td>\n",
       "      <td>122</td>\n",
       "      <td>114</td>\n",
       "      <td>101</td>\n",
       "      <td>97</td>\n",
       "      <td>88</td>\n",
       "      <td>110</td>\n",
       "      <td>152</td>\n",
       "    </tr>\n",
       "    <tr>\n",
       "      <th>3</th>\n",
       "      <td>4</td>\n",
       "      <td>24</td>\n",
       "      <td>32</td>\n",
       "      <td>36</td>\n",
       "      <td>30</td>\n",
       "      <td>32</td>\n",
       "      <td>23</td>\n",
       "      <td>19</td>\n",
       "      <td>20</td>\n",
       "      <td>30</td>\n",
       "      <td>...</td>\n",
       "      <td>174</td>\n",
       "      <td>126</td>\n",
       "      <td>132</td>\n",
       "      <td>132</td>\n",
       "      <td>133</td>\n",
       "      <td>136</td>\n",
       "      <td>139</td>\n",
       "      <td>142</td>\n",
       "      <td>143</td>\n",
       "      <td>142</td>\n",
       "    </tr>\n",
       "    <tr>\n",
       "      <th>4</th>\n",
       "      <td>6</td>\n",
       "      <td>4</td>\n",
       "      <td>0</td>\n",
       "      <td>0</td>\n",
       "      <td>0</td>\n",
       "      <td>0</td>\n",
       "      <td>0</td>\n",
       "      <td>0</td>\n",
       "      <td>0</td>\n",
       "      <td>0</td>\n",
       "      <td>...</td>\n",
       "      <td>12</td>\n",
       "      <td>34</td>\n",
       "      <td>31</td>\n",
       "      <td>31</td>\n",
       "      <td>31</td>\n",
       "      <td>27</td>\n",
       "      <td>31</td>\n",
       "      <td>30</td>\n",
       "      <td>29</td>\n",
       "      <td>30</td>\n",
       "    </tr>\n",
       "  </tbody>\n",
       "</table>\n",
       "<p>5 rows × 2305 columns</p>\n",
       "</div>"
      ],
      "text/plain": [
       "   emotion    0    1    2    3    4    5    6    7    8  ...  2294  2295  \\\n",
       "0        0   70   80   82   72   58   58   60   63   54  ...   159   182   \n",
       "1        0  151  150  147  155  148  133  111  140  170  ...   105   108   \n",
       "2        2  231  212  156  164  174  138  161  173  182  ...   104   138   \n",
       "3        4   24   32   36   30   32   23   19   20   30  ...   174   126   \n",
       "4        6    4    0    0    0    0    0    0    0    0  ...    12    34   \n",
       "\n",
       "   2296  2297  2298  2299  2300  2301  2302  2303  \n",
       "0   183   136   106   116    95   106   109    82  \n",
       "1    95   108   102    67   171   193   183   184  \n",
       "2   152   122   114   101    97    88   110   152  \n",
       "3   132   132   133   136   139   142   143   142  \n",
       "4    31    31    31    27    31    30    29    30  \n",
       "\n",
       "[5 rows x 2305 columns]"
      ]
     },
     "execution_count": 19,
     "metadata": {},
     "output_type": "execute_result"
    }
   ],
   "source": [
    "df.head()"
   ]
  },
  {
   "cell_type": "code",
   "execution_count": 20,
   "metadata": {},
   "outputs": [],
   "source": [
    "X_train = df.iloc[:,1:]\n",
    "y_train = df['emotion']"
   ]
  },
  {
   "cell_type": "code",
   "execution_count": 21,
   "metadata": {},
   "outputs": [],
   "source": [
    "X_train = X_train/255"
   ]
  },
  {
   "cell_type": "code",
   "execution_count": 22,
   "metadata": {},
   "outputs": [],
   "source": [
    "X_train = X_train.values.reshape(-1,48,48,1)"
   ]
  },
  {
   "cell_type": "code",
   "execution_count": 23,
   "metadata": {},
   "outputs": [
    {
     "data": {
      "text/plain": [
       "(28709, 48, 48, 1)"
      ]
     },
     "execution_count": 23,
     "metadata": {},
     "output_type": "execute_result"
    }
   ],
   "source": [
    "X_train.shape"
   ]
  },
  {
   "cell_type": "code",
   "execution_count": 24,
   "metadata": {},
   "outputs": [],
   "source": [
    "import tensorflow as tf\n",
    "import keras\n",
    "from keras.utils.np_utils import to_categorical"
   ]
  },
  {
   "cell_type": "code",
   "execution_count": 25,
   "metadata": {},
   "outputs": [
    {
     "data": {
      "text/plain": [
       "(28709, 7)"
      ]
     },
     "execution_count": 25,
     "metadata": {},
     "output_type": "execute_result"
    }
   ],
   "source": [
    "y_train = to_categorical(y_train)\n",
    "y_train.shape"
   ]
  },
  {
   "cell_type": "code",
   "execution_count": 26,
   "metadata": {},
   "outputs": [],
   "source": [
    "from sklearn.model_selection import train_test_split"
   ]
  },
  {
   "cell_type": "code",
   "execution_count": 27,
   "metadata": {},
   "outputs": [],
   "source": [
    "X_train, X_val, y_train, y_val = train_test_split(X_train,y_train, test_size=0.1, random_state=42)"
   ]
  },
  {
   "cell_type": "code",
   "execution_count": 28,
   "metadata": {},
   "outputs": [],
   "source": [
    "from keras.models import Sequential\n",
    "from keras.layers import Conv2D, MaxPooling2D, Dense, Flatten, BatchNormalization, Dropout, Activation\n",
    "from keras.optimizers import Adam, RMSprop"
   ]
  },
  {
   "cell_type": "code",
   "execution_count": 29,
   "metadata": {},
   "outputs": [],
   "source": [
    "model = Sequential()"
   ]
  },
  {
   "cell_type": "code",
   "execution_count": 30,
   "metadata": {},
   "outputs": [],
   "source": [
    "model.add(Conv2D(32,(3,3),padding='same', kernel_initializer = 'he_normal', input_shape=(48,48,1)))\n",
    "model.add(Activation('elu'))\n",
    "model.add(BatchNormalization())\n",
    "model.add(Conv2D(32,(3,3),padding='same',kernel_initializer = 'he_normal', input_shape=(48,48,1)))\n",
    "model.add(Activation('elu'))\n",
    "model.add(BatchNormalization())\n",
    "model.add(MaxPooling2D(pool_size=(2,2)))\n",
    "model.add(Dropout(0.2))"
   ]
  },
  {
   "cell_type": "code",
   "execution_count": 31,
   "metadata": {},
   "outputs": [],
   "source": [
    "model.add(Conv2D(64,(3,3),padding='same', kernel_initializer = 'he_normal'))\n",
    "model.add(Activation('elu'))\n",
    "model.add(BatchNormalization())\n",
    "model.add(Conv2D(64,(3,3),padding='Same', kernel_initializer = 'he_normal'))\n",
    "model.add(Activation('elu'))\n",
    "model.add(BatchNormalization())\n",
    "model.add(MaxPooling2D(pool_size=(2,2)))\n",
    "model.add(Dropout(0.2))"
   ]
  },
  {
   "cell_type": "code",
   "execution_count": 32,
   "metadata": {},
   "outputs": [],
   "source": [
    "model.add(Conv2D(128,(3,3),padding='same', kernel_initializer = 'he_normal'))\n",
    "model.add(Activation('elu'))\n",
    "model.add(BatchNormalization())\n",
    "model.add(Conv2D(128,(3,3),padding='same', kernel_initializer = 'he_normal'))\n",
    "model.add(Activation('elu'))\n",
    "model.add(BatchNormalization())\n",
    "model.add(MaxPooling2D(pool_size=(2,2)))\n",
    "model.add(Dropout(0.2))"
   ]
  },
  {
   "cell_type": "code",
   "execution_count": 33,
   "metadata": {},
   "outputs": [],
   "source": [
    "model.add(Conv2D(256,(3,3),padding='same', kernel_initializer = 'he_normal'))\n",
    "model.add(Activation('elu'))\n",
    "model.add(BatchNormalization())\n",
    "model.add(Conv2D(256,(3,3),padding='same', kernel_initializer = 'he_normal'))\n",
    "model.add(Activation('elu'))\n",
    "model.add(BatchNormalization())\n",
    "model.add(MaxPooling2D(pool_size=(2,2)))\n",
    "model.add(Dropout(0.2))"
   ]
  },
  {
   "cell_type": "code",
   "execution_count": 34,
   "metadata": {},
   "outputs": [],
   "source": [
    "model.add(Flatten())\n",
    "model.add(Dense(64,kernel_initializer='he_normal'))\n",
    "model.add(Activation('elu'))\n",
    "model.add(BatchNormalization())\n",
    "model.add(Dropout(0.5))"
   ]
  },
  {
   "cell_type": "code",
   "execution_count": 35,
   "metadata": {},
   "outputs": [],
   "source": [
    "model.add(Dense(64,kernel_initializer='he_normal'))\n",
    "model.add(Activation('elu'))\n",
    "model.add(BatchNormalization())\n",
    "model.add(Dropout(0.5))"
   ]
  },
  {
   "cell_type": "code",
   "execution_count": 36,
   "metadata": {},
   "outputs": [],
   "source": [
    "model.add(Dense(7,kernel_initializer = 'he_normal'))\n",
    "model.add(Activation('softmax'))"
   ]
  },
  {
   "cell_type": "code",
   "execution_count": 37,
   "metadata": {},
   "outputs": [
    {
     "name": "stdout",
     "output_type": "stream",
     "text": [
      "Model: \"sequential_2\"\n",
      "_________________________________________________________________\n",
      "Layer (type)                 Output Shape              Param #   \n",
      "=================================================================\n",
      "conv2d_11 (Conv2D)           (None, 48, 48, 32)        320       \n",
      "_________________________________________________________________\n",
      "activation_12 (Activation)   (None, 48, 48, 32)        0         \n",
      "_________________________________________________________________\n",
      "batch_normalization_13 (Batc (None, 48, 48, 32)        128       \n",
      "_________________________________________________________________\n",
      "conv2d_12 (Conv2D)           (None, 48, 48, 32)        9248      \n",
      "_________________________________________________________________\n",
      "activation_13 (Activation)   (None, 48, 48, 32)        0         \n",
      "_________________________________________________________________\n",
      "batch_normalization_14 (Batc (None, 48, 48, 32)        128       \n",
      "_________________________________________________________________\n",
      "max_pooling2d_6 (MaxPooling2 (None, 24, 24, 32)        0         \n",
      "_________________________________________________________________\n",
      "dropout_8 (Dropout)          (None, 24, 24, 32)        0         \n",
      "_________________________________________________________________\n",
      "conv2d_13 (Conv2D)           (None, 24, 24, 64)        18496     \n",
      "_________________________________________________________________\n",
      "activation_14 (Activation)   (None, 24, 24, 64)        0         \n",
      "_________________________________________________________________\n",
      "batch_normalization_15 (Batc (None, 24, 24, 64)        256       \n",
      "_________________________________________________________________\n",
      "conv2d_14 (Conv2D)           (None, 24, 24, 64)        36928     \n",
      "_________________________________________________________________\n",
      "activation_15 (Activation)   (None, 24, 24, 64)        0         \n",
      "_________________________________________________________________\n",
      "batch_normalization_16 (Batc (None, 24, 24, 64)        256       \n",
      "_________________________________________________________________\n",
      "max_pooling2d_7 (MaxPooling2 (None, 12, 12, 64)        0         \n",
      "_________________________________________________________________\n",
      "dropout_9 (Dropout)          (None, 12, 12, 64)        0         \n",
      "_________________________________________________________________\n",
      "conv2d_15 (Conv2D)           (None, 12, 12, 128)       73856     \n",
      "_________________________________________________________________\n",
      "activation_16 (Activation)   (None, 12, 12, 128)       0         \n",
      "_________________________________________________________________\n",
      "batch_normalization_17 (Batc (None, 12, 12, 128)       512       \n",
      "_________________________________________________________________\n",
      "conv2d_16 (Conv2D)           (None, 12, 12, 128)       147584    \n",
      "_________________________________________________________________\n",
      "activation_17 (Activation)   (None, 12, 12, 128)       0         \n",
      "_________________________________________________________________\n",
      "batch_normalization_18 (Batc (None, 12, 12, 128)       512       \n",
      "_________________________________________________________________\n",
      "max_pooling2d_8 (MaxPooling2 (None, 6, 6, 128)         0         \n",
      "_________________________________________________________________\n",
      "dropout_10 (Dropout)         (None, 6, 6, 128)         0         \n",
      "_________________________________________________________________\n",
      "conv2d_17 (Conv2D)           (None, 6, 6, 256)         295168    \n",
      "_________________________________________________________________\n",
      "activation_18 (Activation)   (None, 6, 6, 256)         0         \n",
      "_________________________________________________________________\n",
      "batch_normalization_19 (Batc (None, 6, 6, 256)         1024      \n",
      "_________________________________________________________________\n",
      "conv2d_18 (Conv2D)           (None, 6, 6, 256)         590080    \n",
      "_________________________________________________________________\n",
      "activation_19 (Activation)   (None, 6, 6, 256)         0         \n",
      "_________________________________________________________________\n",
      "batch_normalization_20 (Batc (None, 6, 6, 256)         1024      \n",
      "_________________________________________________________________\n",
      "max_pooling2d_9 (MaxPooling2 (None, 3, 3, 256)         0         \n",
      "_________________________________________________________________\n",
      "dropout_11 (Dropout)         (None, 3, 3, 256)         0         \n",
      "_________________________________________________________________\n",
      "flatten_2 (Flatten)          (None, 2304)              0         \n",
      "_________________________________________________________________\n",
      "dense_4 (Dense)              (None, 64)                147520    \n",
      "_________________________________________________________________\n",
      "activation_20 (Activation)   (None, 64)                0         \n",
      "_________________________________________________________________\n",
      "batch_normalization_21 (Batc (None, 64)                256       \n",
      "_________________________________________________________________\n",
      "dropout_12 (Dropout)         (None, 64)                0         \n",
      "_________________________________________________________________\n",
      "dense_5 (Dense)              (None, 64)                4160      \n",
      "_________________________________________________________________\n",
      "activation_21 (Activation)   (None, 64)                0         \n",
      "_________________________________________________________________\n",
      "batch_normalization_22 (Batc (None, 64)                256       \n",
      "_________________________________________________________________\n",
      "dropout_13 (Dropout)         (None, 64)                0         \n",
      "_________________________________________________________________\n",
      "dense_6 (Dense)              (None, 7)                 455       \n",
      "_________________________________________________________________\n",
      "activation_22 (Activation)   (None, 7)                 0         \n",
      "=================================================================\n",
      "Total params: 1,328,167\n",
      "Trainable params: 1,325,991\n",
      "Non-trainable params: 2,176\n",
      "_________________________________________________________________\n"
     ]
    }
   ],
   "source": [
    "model.summary()"
   ]
  },
  {
   "cell_type": "code",
   "execution_count": 38,
   "metadata": {},
   "outputs": [],
   "source": [
    "from keras.optimizers import Adam, RMSprop, SGD\n",
    "from keras.callbacks import ModelCheckpoint, EarlyStopping, ReduceLROnPlateau "
   ]
  },
  {
   "cell_type": "code",
   "execution_count": 43,
   "metadata": {},
   "outputs": [],
   "source": [
    "checkpoint = ModelCheckpoint('Emotion_test.h5',\n",
    "                             monitor = 'val_loss',\n",
    "                             mode = 'min',\n",
    "                             save_best_only = True,\n",
    "                             verbose = 1)"
   ]
  },
  {
   "cell_type": "code",
   "execution_count": 44,
   "metadata": {},
   "outputs": [],
   "source": [
    "earlystop = EarlyStopping(monitor = 'val_loss',\n",
    "                          min_delta = 0,\n",
    "                          patience = 9,\n",
    "                          verbose = 1,\n",
    "                          restore_best_weights = True)"
   ]
  },
  {
   "cell_type": "code",
   "execution_count": 45,
   "metadata": {},
   "outputs": [],
   "source": [
    "reduce_lr =  ReduceLROnPlateau(monitor = 'val_loss',\n",
    "                               factor = 0.2,\n",
    "                               patience = 3,\n",
    "                               verbose = 1,\n",
    "                               min_delta = 0.0001)"
   ]
  },
  {
   "cell_type": "code",
   "execution_count": 46,
   "metadata": {},
   "outputs": [],
   "source": [
    "callbacks = [earlystop,checkpoint,reduce_lr]"
   ]
  },
  {
   "cell_type": "code",
   "execution_count": 47,
   "metadata": {},
   "outputs": [],
   "source": [
    "model.compile(optimizer =Adam(lr=0.001), loss='categorical_crossentropy', metrics=['accuracy'])"
   ]
  },
  {
   "cell_type": "code",
   "execution_count": 48,
   "metadata": {},
   "outputs": [],
   "source": [
    "epochs=25\n",
    "batch_size = 32"
   ]
  },
  {
   "cell_type": "code",
   "execution_count": 52,
   "metadata": {},
   "outputs": [],
   "source": [
    "from keras.preprocessing.image import ImageDataGenerator"
   ]
  },
  {
   "cell_type": "code",
   "execution_count": 53,
   "metadata": {},
   "outputs": [],
   "source": [
    "datagen = ImageDataGenerator(\n",
    "        featurewise_center=False,  # set input mean to 0 over the dataset\n",
    "        samplewise_center=False,  # set each sample mean to 0\n",
    "        featurewise_std_normalization=False,  # divide inputs by std of the dataset\n",
    "        samplewise_std_normalization=False,  # divide each input by its std\n",
    "        zca_whitening=False,  # dimesion reduction\n",
    "        rotation_range=30,\n",
    "        shear_range = 0.3, # randomly rotate images in the range 5 degrees\n",
    "        zoom_range = 0.3, # Randomly zoom image 5%\n",
    "        width_shift_range=0.4,  # randomly shift images horizontally 5%\n",
    "        height_shift_range=0.4,  # randomly shift images vertically 5%\n",
    "        horizontal_flip=True,  # randomly flip images\n",
    "        fill_mode = 'nearest',\n",
    "        vertical_flip=False)  # randomly flip images\n",
    "\n",
    "datagen.fit(X_train)"
   ]
  },
  {
   "cell_type": "code",
   "execution_count": null,
   "metadata": {},
   "outputs": [
    {
     "name": "stdout",
     "output_type": "stream",
     "text": [
      "WARNING:tensorflow:From C:\\Users\\Admini\\Anaconda3\\lib\\site-packages\\keras\\backend\\tensorflow_backend.py:422: The name tf.global_variables is deprecated. Please use tf.compat.v1.global_variables instead.\n",
      "\n",
      "Epoch 1/25\n",
      "807/807 [==============================] - 1705s 2s/step - loss: 2.2155 - accuracy: 0.1944 - val_loss: 1.7755 - val_accuracy: 0.2557\n",
      "\n",
      "Epoch 00001: val_loss improved from inf to 1.77548, saving model to Emotion_test.h5\n",
      "Epoch 2/25\n",
      "807/807 [==============================] - 1517s 2s/step - loss: 1.8359 - accuracy: 0.2311 - val_loss: 1.7607 - val_accuracy: 0.2692\n",
      "\n",
      "Epoch 00002: val_loss improved from 1.77548 to 1.76073, saving model to Emotion_test.h5\n",
      "Epoch 3/25\n",
      "807/807 [==============================] - 1583s 2s/step - loss: 1.7955 - accuracy: 0.2529 - val_loss: 1.7362 - val_accuracy: 0.2766\n",
      "\n",
      "Epoch 00003: val_loss improved from 1.76073 to 1.73618, saving model to Emotion_test.h5\n",
      "Epoch 4/25\n",
      "807/807 [==============================] - 1386s 2s/step - loss: 1.7860 - accuracy: 0.2561 - val_loss: 1.7177 - val_accuracy: 0.2950\n",
      "\n",
      "Epoch 00004: val_loss improved from 1.73618 to 1.71772, saving model to Emotion_test.h5\n",
      "Epoch 5/25\n",
      "807/807 [==============================] - 1534s 2s/step - loss: 1.7474 - accuracy: 0.2787 - val_loss: 1.6424 - val_accuracy: 0.3204\n",
      "\n",
      "Epoch 00005: val_loss improved from 1.71772 to 1.64240, saving model to Emotion_test.h5\n",
      "Epoch 6/25\n",
      "807/807 [==============================] - 1609s 2s/step - loss: 1.6829 - accuracy: 0.3147 - val_loss: 1.4524 - val_accuracy: 0.4253\n",
      "\n",
      "Epoch 00006: val_loss improved from 1.64240 to 1.45242, saving model to Emotion_test.h5\n",
      "Epoch 7/25\n",
      "807/807 [==============================] - 1854s 2s/step - loss: 1.5963 - accuracy: 0.3660 - val_loss: 1.4485 - val_accuracy: 0.4605\n",
      "\n",
      "Epoch 00007: val_loss improved from 1.45242 to 1.44851, saving model to Emotion_test.h5\n",
      "Epoch 8/25\n",
      "807/807 [==============================] - 1784s 2s/step - loss: 1.5271 - accuracy: 0.4061 - val_loss: 1.3055 - val_accuracy: 0.4904\n",
      "\n",
      "Epoch 00008: val_loss improved from 1.44851 to 1.30550, saving model to Emotion_test.h5\n",
      "Epoch 9/25\n",
      "807/807 [==============================] - 1625s 2s/step - loss: 1.4850 - accuracy: 0.4255 - val_loss: 1.2479 - val_accuracy: 0.5242\n",
      "\n",
      "Epoch 00009: val_loss improved from 1.30550 to 1.24794, saving model to Emotion_test.h5\n",
      "Epoch 10/25\n",
      "807/807 [==============================] - 1550s 2s/step - loss: 1.4472 - accuracy: 0.4423 - val_loss: 1.2165 - val_accuracy: 0.5357\n",
      "\n",
      "Epoch 00010: val_loss improved from 1.24794 to 1.21655, saving model to Emotion_test.h5\n",
      "Epoch 11/25\n",
      "807/807 [==============================] - 1494s 2s/step - loss: 1.4192 - accuracy: 0.4556 - val_loss: 1.1817 - val_accuracy: 0.5448\n",
      "\n",
      "Epoch 00011: val_loss improved from 1.21655 to 1.18168, saving model to Emotion_test.h5\n",
      "Epoch 12/25\n",
      "807/807 [==============================] - 1498s 2s/step - loss: 1.4036 - accuracy: 0.4640 - val_loss: 1.1825 - val_accuracy: 0.5465\n",
      "\n",
      "Epoch 00012: val_loss did not improve from 1.18168\n",
      "Epoch 13/25\n",
      "807/807 [==============================] - 1490s 2s/step - loss: 1.3856 - accuracy: 0.4681 - val_loss: 1.1623 - val_accuracy: 0.5594\n",
      "\n",
      "Epoch 00013: val_loss improved from 1.18168 to 1.16232, saving model to Emotion_test.h5\n",
      "Epoch 14/25\n",
      "807/807 [==============================] - 1569s 2s/step - loss: 1.3755 - accuracy: 0.4754 - val_loss: 1.1519 - val_accuracy: 0.5514\n",
      "\n",
      "Epoch 00014: val_loss improved from 1.16232 to 1.15192, saving model to Emotion_test.h5\n",
      "Epoch 15/25\n",
      "807/807 [==============================] - 1678s 2s/step - loss: 1.3595 - accuracy: 0.4860 - val_loss: 1.1406 - val_accuracy: 0.5636\n",
      "\n",
      "Epoch 00015: val_loss improved from 1.15192 to 1.14057, saving model to Emotion_test.h5\n",
      "Epoch 16/25\n",
      "807/807 [==============================] - 1930s 2s/step - loss: 1.3482 - accuracy: 0.4874 - val_loss: 1.1561 - val_accuracy: 0.5583\n",
      "\n",
      "Epoch 00016: val_loss did not improve from 1.14057\n",
      "Epoch 17/25\n",
      "807/807 [==============================] - 1876s 2s/step - loss: 1.3354 - accuracy: 0.4930 - val_loss: 1.1356 - val_accuracy: 0.5646\n",
      "\n",
      "Epoch 00017: val_loss improved from 1.14057 to 1.13561, saving model to Emotion_test.h5\n",
      "Epoch 18/25\n",
      "807/807 [==============================] - 1517s 2s/step - loss: 1.3275 - accuracy: 0.4994 - val_loss: 1.1020 - val_accuracy: 0.5810\n",
      "\n",
      "Epoch 00018: val_loss improved from 1.13561 to 1.10204, saving model to Emotion_test.h5\n",
      "Epoch 19/25\n",
      "807/807 [==============================] - 1350s 2s/step - loss: 1.3209 - accuracy: 0.5014 - val_loss: 1.0958 - val_accuracy: 0.5869\n",
      "\n",
      "Epoch 00019: val_loss improved from 1.10204 to 1.09584, saving model to Emotion_test.h5\n",
      "Epoch 20/25\n",
      "807/807 [==============================] - 1345s 2s/step - loss: 1.3083 - accuracy: 0.5078 - val_loss: 1.0975 - val_accuracy: 0.5852\n",
      "\n",
      "Epoch 00020: val_loss did not improve from 1.09584\n",
      "Epoch 21/25\n",
      "807/807 [==============================] - 1636s 2s/step - loss: 1.2920 - accuracy: 0.5169 - val_loss: 1.0772 - val_accuracy: 0.5831\n",
      "\n",
      "Epoch 00021: val_loss improved from 1.09584 to 1.07721, saving model to Emotion_test.h5\n",
      "Epoch 22/25\n",
      "807/807 [==============================] - 1669s 2s/step - loss: 1.2942 - accuracy: 0.5152 - val_loss: 1.0702 - val_accuracy: 0.5946\n",
      "\n",
      "Epoch 00022: val_loss improved from 1.07721 to 1.07016, saving model to Emotion_test.h5\n",
      "Epoch 23/25\n",
      "807/807 [==============================] - 1502s 2s/step - loss: 1.2810 - accuracy: 0.5200 - val_loss: 1.0686 - val_accuracy: 0.5935\n",
      "\n",
      "Epoch 00023: val_loss improved from 1.07016 to 1.06859, saving model to Emotion_test.h5\n",
      "Epoch 24/25\n",
      "807/807 [==============================] - 1555s 2s/step - loss: 1.2715 - accuracy: 0.5238 - val_loss: 1.0698 - val_accuracy: 0.5970\n",
      "\n",
      "Epoch 00024: val_loss did not improve from 1.06859\n",
      "Epoch 25/25\n",
      "773/807 [===========================>..] - ETA: 1:05 - loss: 1.2652 - accuracy: 0.5308"
     ]
    }
   ],
   "source": [
    "history = model.fit_generator(datagen.flow(X_train,y_train, batch_size=batch_size),\n",
    "                              epochs = epochs,\n",
    "                              callbacks = callbacks,\n",
    "                              validation_data = (X_val,y_val),\n",
    "                              steps_per_epoch=X_train.shape[0] // batch_size)"
   ]
  },
  {
   "cell_type": "code",
   "execution_count": null,
   "metadata": {},
   "outputs": [],
   "source": []
  }
 ],
 "metadata": {
  "kernelspec": {
   "display_name": "Python 3",
   "language": "python",
   "name": "python3"
  },
  "language_info": {
   "codemirror_mode": {
    "name": "ipython",
    "version": 3
   },
   "file_extension": ".py",
   "mimetype": "text/x-python",
   "name": "python",
   "nbconvert_exporter": "python",
   "pygments_lexer": "ipython3",
   "version": "3.7.3"
  }
 },
 "nbformat": 4,
 "nbformat_minor": 2
}
